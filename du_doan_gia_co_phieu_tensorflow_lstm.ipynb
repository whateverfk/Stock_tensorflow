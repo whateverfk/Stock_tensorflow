{
  "nbformat": 4,
  "nbformat_minor": 0,
  "metadata": {
    "colab": {
      "provenance": [],
      "include_colab_link": true
    },
    "kernelspec": {
      "name": "python3",
      "display_name": "Python 3"
    },
    "language_info": {
      "name": "python"
    }
  },
  "cells": [
    {
      "cell_type": "markdown",
      "metadata": {
        "id": "view-in-github",
        "colab_type": "text"
      },
      "source": [
        "<a href=\"https://colab.research.google.com/github/whateverfk/Stock_tensorflow/blob/main/du_doan_gia_co_phieu_tensorflow_lstm.ipynb\" target=\"_parent\"><img src=\"https://colab.research.google.com/assets/colab-badge.svg\" alt=\"Open In Colab\"/></a>"
      ]
    },
    {
      "cell_type": "code",
      "source": [
        "from tensorflow import keras\n",
        "import pandas as pd\n",
        "import numpy as np\n",
        "import matplotlib.pyplot as plt\n",
        "import seaborn as sns\n",
        "from sklearn.preprocessing import StandardScaler\n",
        "import os\n",
        "from datetime import datetime"
      ],
      "metadata": {
        "id": "Zo75DeDk-Xlc"
      },
      "execution_count": null,
      "outputs": []
    },
    {
      "cell_type": "markdown",
      "source": [
        "Load data\n"
      ],
      "metadata": {
        "id": "FQX380A2AE8U"
      }
    },
    {
      "cell_type": "code",
      "source": [
        "from google.colab import drive\n",
        "drive.mount('/content/drive')\n",
        "data = pd.read_csv(\"/content/drive/MyDrive/Ml stock/VCB stock_data_with_features.csv\")\n",
        "print(data.head())\n",
        "print(data.info())\n",
        "print(data.describe())\n"
      ],
      "metadata": {
        "colab": {
          "base_uri": "https://localhost:8080/"
        },
        "id": "9VSYGJuh_-4B",
        "outputId": "63d94a60-679e-4c73-dd7e-32b83a0602e7"
      },
      "execution_count": null,
      "outputs": [
        {
          "output_type": "stream",
          "name": "stdout",
          "text": [
            "Mounted at /content/drive\n",
            "         time   open   high    low  close   volume     ma5    ma10        rsi  \\\n",
            "0  2020-02-25  37.40  37.84  37.32  37.49  1229530  38.398  38.631  32.519290   \n",
            "1  2020-02-26  37.40  37.40  36.53  36.97  1163030  38.006  38.440  28.705303   \n",
            "2  2020-02-27  36.53  36.79  36.06  36.53  1227980  37.526  38.209  25.933668   \n",
            "3  2020-02-28  34.84  36.27  34.84  35.84  1710080  36.952  37.909  22.297735   \n",
            "4  2020-03-02  35.45  35.75  35.36  35.58   668980  36.482  37.579  21.097433   \n",
            "\n",
            "       macd  macd_signal   bb_upper  bb_middle   bb_lower    return  \n",
            "0 -0.262191    -0.137866  39.910584    38.7975  37.684416 -0.011600  \n",
            "1 -0.368647    -0.184022  39.668271    38.6150  37.561729 -0.013870  \n",
            "2 -0.482952    -0.243808  39.898842    38.5085  37.118158 -0.011902  \n",
            "3 -0.622046    -0.319456  40.182889    38.3715  36.560111 -0.018889  \n",
            "4 -0.744674    -0.404500  40.398868    38.2215  36.044132 -0.007254  \n",
            "<class 'pandas.core.frame.DataFrame'>\n",
            "RangeIndex: 1217 entries, 0 to 1216\n",
            "Data columns (total 15 columns):\n",
            " #   Column       Non-Null Count  Dtype  \n",
            "---  ------       --------------  -----  \n",
            " 0   time         1217 non-null   object \n",
            " 1   open         1217 non-null   float64\n",
            " 2   high         1217 non-null   float64\n",
            " 3   low          1217 non-null   float64\n",
            " 4   close        1217 non-null   float64\n",
            " 5   volume       1217 non-null   int64  \n",
            " 6   ma5          1217 non-null   float64\n",
            " 7   ma10         1217 non-null   float64\n",
            " 8   rsi          1217 non-null   float64\n",
            " 9   macd         1217 non-null   float64\n",
            " 10  macd_signal  1217 non-null   float64\n",
            " 11  bb_upper     1217 non-null   float64\n",
            " 12  bb_middle    1217 non-null   float64\n",
            " 13  bb_lower     1217 non-null   float64\n",
            " 14  return       1217 non-null   float64\n",
            "dtypes: float64(13), int64(1), object(1)\n",
            "memory usage: 142.7+ KB\n",
            "None\n",
            "              open         high          low        close        volume  \\\n",
            "count  1217.000000  1217.000000  1217.000000  1217.000000  1.217000e+03   \n",
            "mean     48.382597    48.896138    47.874585    48.394174  1.264869e+06   \n",
            "std       9.330437     9.325806     9.338673     9.300760  6.409966e+05   \n",
            "min      24.880000    25.400000    24.620000    24.880000  2.261020e+05   \n",
            "25%      42.310000    42.800000    41.740000    42.310000  8.199500e+05   \n",
            "50%      45.990000    46.480000    45.310000    45.930000  1.143400e+06   \n",
            "75%      58.000000    58.660000    57.540000    58.110000  1.573590e+06   \n",
            "max      65.890000    67.220000    65.080000    65.150000  6.274200e+06   \n",
            "\n",
            "               ma5         ma10          rsi         macd  macd_signal  \\\n",
            "count  1217.000000  1217.000000  1217.000000  1217.000000  1217.000000   \n",
            "mean     48.356552    48.309622    51.723568     0.132018     0.131669   \n",
            "std       9.271219     9.238551    11.460718     0.749344     0.697615   \n",
            "min      26.264000    26.946000    15.260770    -3.065838    -2.629243   \n",
            "25%      42.348000    42.391000    44.635723    -0.316580    -0.303637   \n",
            "50%      45.806000    45.547000    51.271073     0.076011     0.081728   \n",
            "75%      58.128000    57.934000    58.206125     0.566345     0.563571   \n",
            "max      64.680000    64.112000    87.220555     2.291144     1.892787   \n",
            "\n",
            "          bb_upper    bb_middle     bb_lower       return  \n",
            "count  1217.000000  1217.000000  1217.000000  1217.000000  \n",
            "mean     50.512421    48.213873    45.915324     0.000524  \n",
            "std       8.989638     9.170123     9.502268     0.016341  \n",
            "min      31.639916    28.390500    22.782870    -0.069932  \n",
            "25%      44.136099    42.455000    40.084500    -0.007436  \n",
            "50%      48.156551    45.567000    42.691668     0.000000  \n",
            "75%      59.879701    58.101000    56.146840     0.008178  \n",
            "max      66.481799    63.738500    62.081927     0.069084  \n"
          ]
        }
      ]
    },
    {
      "cell_type": "code",
      "source": [
        "from google.colab import drive\n",
        "drive.mount('/content/drive')"
      ],
      "metadata": {
        "id": "UZern5umKoEL"
      },
      "execution_count": null,
      "outputs": []
    }
  ]
}